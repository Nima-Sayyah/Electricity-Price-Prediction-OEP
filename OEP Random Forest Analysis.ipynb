{
 "cells": [
  {
   "cell_type": "code",
   "execution_count": 2,
   "id": "271d7a3d",
   "metadata": {},
   "outputs": [
    {
     "name": "stdout",
     "output_type": "stream",
     "text": [
      "Collecting keras\n",
      "  Downloading keras-2.7.0-py2.py3-none-any.whl (1.3 MB)\n",
      "\u001b[K     |████████████████████████████████| 1.3 MB 2.5 MB/s eta 0:00:01\n",
      "\u001b[?25hInstalling collected packages: keras\n",
      "Successfully installed keras-2.7.0\n",
      "\u001b[33mWARNING: You are using pip version 21.0.1; however, version 21.3.1 is available.\n",
      "You should consider upgrading via the '/opt/anaconda3/bin/python -m pip install --upgrade pip' command.\u001b[0m\n",
      "Note: you may need to restart the kernel to use updated packages.\n"
     ]
    }
   ],
   "source": [
    "pip install keras"
   ]
  },
  {
   "cell_type": "code",
   "execution_count": 4,
   "id": "27db8e9a",
   "metadata": {},
   "outputs": [
    {
     "name": "stdout",
     "output_type": "stream",
     "text": [
      "Collecting tensorflow\n",
      "  Downloading tensorflow-2.7.0-cp38-cp38-macosx_10_11_x86_64.whl (207.1 MB)\n",
      "\u001b[K     |████████████████████████████████| 207.1 MB 4.1 MB/s eta 0:00:01    |█████████████▋                  | 88.2 MB 4.0 MB/s eta 0:00:30     |████████████████████████████▌   | 184.2 MB 4.3 MB/s eta 0:00:06\n",
      "\u001b[?25hCollecting protobuf>=3.9.2\n",
      "  Downloading protobuf-3.19.1-cp38-cp38-macosx_10_9_x86_64.whl (1.0 MB)\n",
      "\u001b[K     |████████████████████████████████| 1.0 MB 3.8 MB/s eta 0:00:01\n",
      "\u001b[?25hCollecting keras-preprocessing>=1.1.1\n",
      "  Downloading Keras_Preprocessing-1.1.2-py2.py3-none-any.whl (42 kB)\n",
      "\u001b[K     |████████████████████████████████| 42 kB 2.3 MB/s eta 0:00:01\n",
      "\u001b[?25hRequirement already satisfied: wheel<1.0,>=0.32.0 in /opt/anaconda3/lib/python3.8/site-packages (from tensorflow) (0.35.1)\n",
      "Collecting absl-py>=0.4.0\n",
      "  Downloading absl_py-1.0.0-py3-none-any.whl (126 kB)\n",
      "\u001b[K     |████████████████████████████████| 126 kB 3.9 MB/s eta 0:00:01\n",
      "\u001b[?25hCollecting tensorflow-estimator<2.8,~=2.7.0rc0\n",
      "  Downloading tensorflow_estimator-2.7.0-py2.py3-none-any.whl (463 kB)\n",
      "\u001b[K     |████████████████████████████████| 463 kB 3.8 MB/s eta 0:00:01\n",
      "\u001b[?25hRequirement already satisfied: keras<2.8,>=2.7.0rc0 in /opt/anaconda3/lib/python3.8/site-packages (from tensorflow) (2.7.0)\n",
      "Requirement already satisfied: six>=1.12.0 in /opt/anaconda3/lib/python3.8/site-packages (from tensorflow) (1.15.0)\n",
      "Requirement already satisfied: h5py>=2.9.0 in /opt/anaconda3/lib/python3.8/site-packages (from tensorflow) (2.10.0)\n",
      "Collecting gast<0.5.0,>=0.2.1\n",
      "  Downloading gast-0.4.0-py3-none-any.whl (9.8 kB)\n",
      "Collecting astunparse>=1.6.0\n",
      "  Downloading astunparse-1.6.3-py2.py3-none-any.whl (12 kB)\n",
      "Collecting flatbuffers<3.0,>=1.12\n",
      "  Downloading flatbuffers-2.0-py2.py3-none-any.whl (26 kB)\n",
      "Collecting opt-einsum>=2.3.2\n",
      "  Downloading opt_einsum-3.3.0-py3-none-any.whl (65 kB)\n",
      "\u001b[K     |████████████████████████████████| 65 kB 3.7 MB/s eta 0:00:01\n",
      "\u001b[?25hCollecting tensorboard~=2.6\n",
      "  Downloading tensorboard-2.7.0-py3-none-any.whl (5.8 MB)\n",
      "\u001b[K     |████████████████████████████████| 5.8 MB 3.7 MB/s eta 0:00:01\n",
      "\u001b[?25hRequirement already satisfied: typing-extensions>=3.6.6 in /opt/anaconda3/lib/python3.8/site-packages (from tensorflow) (3.7.4.3)\n",
      "Collecting google-pasta>=0.1.1\n",
      "  Downloading google_pasta-0.2.0-py3-none-any.whl (57 kB)\n",
      "\u001b[K     |████████████████████████████████| 57 kB 3.6 MB/s eta 0:00:01\n",
      "\u001b[?25hCollecting tensorflow-io-gcs-filesystem>=0.21.0\n",
      "  Downloading tensorflow_io_gcs_filesystem-0.22.0-cp38-cp38-macosx_10_14_x86_64.whl (1.6 MB)\n",
      "\u001b[K     |████████████████████████████████| 1.6 MB 3.8 MB/s eta 0:00:01\n",
      "\u001b[?25hCollecting libclang>=9.0.1\n",
      "  Downloading libclang-12.0.0-py2.py3-none-macosx_10_9_x86_64.whl (12.2 MB)\n",
      "\u001b[K     |████████████████████████████████| 12.2 MB 4.0 MB/s eta 0:00:01    |████                            | 1.6 MB 3.3 MB/s eta 0:00:04\n",
      "\u001b[?25hCollecting termcolor>=1.1.0\n",
      "  Downloading termcolor-1.1.0.tar.gz (3.9 kB)\n",
      "Requirement already satisfied: wrapt>=1.11.0 in /opt/anaconda3/lib/python3.8/site-packages (from tensorflow) (1.11.2)\n",
      "Collecting grpcio<2.0,>=1.24.3\n",
      "  Downloading grpcio-1.42.0-cp38-cp38-macosx_10_10_x86_64.whl (4.0 MB)\n",
      "\u001b[K     |████████████████████████████████| 4.0 MB 3.9 MB/s eta 0:00:01\n",
      "\u001b[?25hRequirement already satisfied: numpy>=1.14.5 in /opt/anaconda3/lib/python3.8/site-packages (from tensorflow) (1.19.2)\n",
      "Collecting google-auth-oauthlib<0.5,>=0.4.1\n",
      "  Downloading google_auth_oauthlib-0.4.6-py2.py3-none-any.whl (18 kB)\n",
      "Collecting google-auth<3,>=1.6.3\n",
      "  Downloading google_auth-2.3.3-py2.py3-none-any.whl (155 kB)\n",
      "\u001b[K     |████████████████████████████████| 155 kB 4.1 MB/s eta 0:00:01\n",
      "\u001b[?25hRequirement already satisfied: requests<3,>=2.21.0 in /opt/anaconda3/lib/python3.8/site-packages (from tensorboard~=2.6->tensorflow) (2.24.0)\n",
      "Collecting tensorboard-plugin-wit>=1.6.0\n",
      "  Downloading tensorboard_plugin_wit-1.8.0-py3-none-any.whl (781 kB)\n",
      "\u001b[K     |████████████████████████████████| 781 kB 3.8 MB/s eta 0:00:01\n",
      "\u001b[?25hCollecting tensorboard-data-server<0.7.0,>=0.6.0\n",
      "  Downloading tensorboard_data_server-0.6.1-py3-none-macosx_10_9_x86_64.whl (3.5 MB)\n",
      "\u001b[K     |████████████████████████████████| 3.5 MB 3.9 MB/s eta 0:00:01\n",
      "\u001b[?25hRequirement already satisfied: werkzeug>=0.11.15 in /opt/anaconda3/lib/python3.8/site-packages (from tensorboard~=2.6->tensorflow) (1.0.1)\n",
      "Collecting markdown>=2.6.8\n",
      "  Downloading Markdown-3.3.6-py3-none-any.whl (97 kB)\n",
      "\u001b[K     |████████████████████████████████| 97 kB 3.6 MB/s eta 0:00:01\n",
      "\u001b[?25hRequirement already satisfied: setuptools>=41.0.0 in /opt/anaconda3/lib/python3.8/site-packages (from tensorboard~=2.6->tensorflow) (50.3.1.post20201107)\n",
      "Collecting cachetools<5.0,>=2.0.0\n",
      "  Downloading cachetools-4.2.4-py3-none-any.whl (10 kB)\n",
      "Collecting rsa<5,>=3.1.4\n",
      "  Downloading rsa-4.8-py3-none-any.whl (39 kB)\n",
      "Collecting pyasn1-modules>=0.2.1\n",
      "  Downloading pyasn1_modules-0.2.8-py2.py3-none-any.whl (155 kB)\n",
      "\u001b[K     |████████████████████████████████| 155 kB 3.8 MB/s eta 0:00:01\n",
      "\u001b[?25hCollecting requests-oauthlib>=0.7.0\n",
      "  Downloading requests_oauthlib-1.3.0-py2.py3-none-any.whl (23 kB)\n",
      "Collecting importlib-metadata>=4.4\n",
      "  Downloading importlib_metadata-4.8.2-py3-none-any.whl (17 kB)\n",
      "Requirement already satisfied: zipp>=0.5 in /opt/anaconda3/lib/python3.8/site-packages (from importlib-metadata>=4.4->markdown>=2.6.8->tensorboard~=2.6->tensorflow) (3.4.0)\n",
      "Collecting pyasn1<0.5.0,>=0.4.6\n",
      "  Downloading pyasn1-0.4.8-py2.py3-none-any.whl (77 kB)\n",
      "\u001b[K     |████████████████████████████████| 77 kB 3.5 MB/s eta 0:00:01\n",
      "\u001b[?25hRequirement already satisfied: chardet<4,>=3.0.2 in /opt/anaconda3/lib/python3.8/site-packages (from requests<3,>=2.21.0->tensorboard~=2.6->tensorflow) (3.0.4)\n",
      "Requirement already satisfied: urllib3!=1.25.0,!=1.25.1,<1.26,>=1.21.1 in /opt/anaconda3/lib/python3.8/site-packages (from requests<3,>=2.21.0->tensorboard~=2.6->tensorflow) (1.25.11)\n",
      "Requirement already satisfied: certifi>=2017.4.17 in /opt/anaconda3/lib/python3.8/site-packages (from requests<3,>=2.21.0->tensorboard~=2.6->tensorflow) (2020.6.20)\n",
      "Requirement already satisfied: idna<3,>=2.5 in /opt/anaconda3/lib/python3.8/site-packages (from requests<3,>=2.21.0->tensorboard~=2.6->tensorflow) (2.10)\n",
      "Collecting oauthlib>=3.0.0\n",
      "  Downloading oauthlib-3.1.1-py2.py3-none-any.whl (146 kB)\n",
      "\u001b[K     |████████████████████████████████| 146 kB 3.8 MB/s eta 0:00:01\n",
      "\u001b[?25hBuilding wheels for collected packages: termcolor\n",
      "  Building wheel for termcolor (setup.py) ... \u001b[?25ldone\n",
      "\u001b[?25h  Created wheel for termcolor: filename=termcolor-1.1.0-py3-none-any.whl size=4830 sha256=dc685c594914a22a6ecb69528d123d0894a875bc3e43bde37c3bb74c82a9348a\n",
      "  Stored in directory: /Users/NS/Library/Caches/pip/wheels/a0/16/9c/5473df82468f958445479c59e784896fa24f4a5fc024b0f501\n",
      "Successfully built termcolor\n",
      "Installing collected packages: pyasn1, rsa, pyasn1-modules, oauthlib, cachetools, requests-oauthlib, importlib-metadata, google-auth, tensorboard-plugin-wit, tensorboard-data-server, protobuf, markdown, grpcio, google-auth-oauthlib, absl-py, termcolor, tensorflow-io-gcs-filesystem, tensorflow-estimator, tensorboard, opt-einsum, libclang, keras-preprocessing, google-pasta, gast, flatbuffers, astunparse, tensorflow\n",
      "  Attempting uninstall: importlib-metadata\n",
      "    Found existing installation: importlib-metadata 2.0.0\n",
      "    Uninstalling importlib-metadata-2.0.0:\n",
      "      Successfully uninstalled importlib-metadata-2.0.0\n",
      "Successfully installed absl-py-1.0.0 astunparse-1.6.3 cachetools-4.2.4 flatbuffers-2.0 gast-0.4.0 google-auth-2.3.3 google-auth-oauthlib-0.4.6 google-pasta-0.2.0 grpcio-1.42.0 importlib-metadata-4.8.2 keras-preprocessing-1.1.2 libclang-12.0.0 markdown-3.3.6 oauthlib-3.1.1 opt-einsum-3.3.0 protobuf-3.19.1 pyasn1-0.4.8 pyasn1-modules-0.2.8 requests-oauthlib-1.3.0 rsa-4.8 tensorboard-2.7.0 tensorboard-data-server-0.6.1 tensorboard-plugin-wit-1.8.0 tensorflow-2.7.0 tensorflow-estimator-2.7.0 tensorflow-io-gcs-filesystem-0.22.0 termcolor-1.1.0\n",
      "\u001b[33mWARNING: You are using pip version 21.0.1; however, version 21.3.1 is available.\n",
      "You should consider upgrading via the '/opt/anaconda3/bin/python -m pip install --upgrade pip' command.\u001b[0m\n",
      "Note: you may need to restart the kernel to use updated packages.\n"
     ]
    }
   ],
   "source": [
    "pip install tensorflow"
   ]
  },
  {
   "cell_type": "code",
   "execution_count": 1,
   "id": "4cc53399",
   "metadata": {},
   "outputs": [],
   "source": [
    "import pandas as pd\n",
    "import matplotlib.pyplot as plt\n",
    "import numpy as np\n",
    "\n",
    "from keras import Sequential\n",
    "from keras.layers import Dense, LSTM\n",
    "import tensorflow as tf\n",
    "import keras\n",
    "\n",
    "from sklearn.preprocessing import MinMaxScaler\n",
    "from sklearn.preprocessing import LabelEncoder\n",
    "from sklearn.metrics import mean_squared_error\n",
    "\n",
    "from sklearn.ensemble import RandomForestRegressor\n",
    "\n",
    "\n",
    "\n",
    "from keras.models import Sequential\n",
    "from keras.layers import Dense\n",
    "from keras.layers import LSTM\n",
    "from keras.layers import Conv1D, Conv2D, MaxPooling1D, Flatten\n",
    "from keras.layers import GRU\n",
    "\n",
    "import numpy as np"
   ]
  },
  {
   "cell_type": "code",
   "execution_count": 2,
   "id": "27f1ca86",
   "metadata": {},
   "outputs": [
    {
     "data": {
      "text/html": [
       "<div>\n",
       "<style scoped>\n",
       "    .dataframe tbody tr th:only-of-type {\n",
       "        vertical-align: middle;\n",
       "    }\n",
       "\n",
       "    .dataframe tbody tr th {\n",
       "        vertical-align: top;\n",
       "    }\n",
       "\n",
       "    .dataframe thead th {\n",
       "        text-align: right;\n",
       "    }\n",
       "</style>\n",
       "<table border=\"1\" class=\"dataframe\">\n",
       "  <thead>\n",
       "    <tr style=\"text-align: right;\">\n",
       "      <th></th>\n",
       "      <th>A</th>\n",
       "    </tr>\n",
       "  </thead>\n",
       "  <tbody>\n",
       "    <tr>\n",
       "      <th>0</th>\n",
       "      <td>1.0</td>\n",
       "    </tr>\n",
       "    <tr>\n",
       "      <th>1</th>\n",
       "      <td>2.0</td>\n",
       "    </tr>\n",
       "    <tr>\n",
       "      <th>2</th>\n",
       "      <td>2.9</td>\n",
       "    </tr>\n",
       "    <tr>\n",
       "      <th>3</th>\n",
       "      <td>4.0</td>\n",
       "    </tr>\n",
       "    <tr>\n",
       "      <th>4</th>\n",
       "      <td>2.9</td>\n",
       "    </tr>\n",
       "    <tr>\n",
       "      <th>5</th>\n",
       "      <td>6.0</td>\n",
       "    </tr>\n",
       "    <tr>\n",
       "      <th>6</th>\n",
       "      <td>7.0</td>\n",
       "    </tr>\n",
       "    <tr>\n",
       "      <th>7</th>\n",
       "      <td>2.9</td>\n",
       "    </tr>\n",
       "    <tr>\n",
       "      <th>8</th>\n",
       "      <td>9.0</td>\n",
       "    </tr>\n",
       "    <tr>\n",
       "      <th>9</th>\n",
       "      <td>2.9</td>\n",
       "    </tr>\n",
       "  </tbody>\n",
       "</table>\n",
       "</div>"
      ],
      "text/plain": [
       "     A\n",
       "0  1.0\n",
       "1  2.0\n",
       "2  2.9\n",
       "3  4.0\n",
       "4  2.9\n",
       "5  6.0\n",
       "6  7.0\n",
       "7  2.9\n",
       "8  9.0\n",
       "9  2.9"
      ]
     },
     "execution_count": 2,
     "metadata": {},
     "output_type": "execute_result"
    }
   ],
   "source": [
    "nima=pd.DataFrame(np.array([1,2,0,4,0,6,7,0,9,0]), columns=['A'])\n",
    "nima['A']=nima['A'].replace(0,nima['A'].mean())\n",
    "nima\n"
   ]
  },
  {
   "cell_type": "code",
   "execution_count": 980,
   "id": "21a619db",
   "metadata": {},
   "outputs": [],
   "source": [
    "df = pd.read_csv('OEP_refined_test_2.csv')\n",
    "df = df.drop(columns = ['Unnamed: 0'])\n",
    "df.Date = pd.to_datetime(df.Date)\n",
    "df['Date'] +=  pd.to_timedelta(df.Hour, unit='h')\n",
    "df.drop(df.loc[df['Date'].duplicated()].index, inplace=True)\n",
    "df = df.set_index(df.Date).drop(columns = ['Date'])\n",
    "df.drop(columns='Hour', inplace=True)\n",
    "for v in df['¢/kWh']:\n",
    "    if v<1:\n",
    "        df['¢/kWh']= df['¢/kWh'].replace(v,df['¢/kWh'].median()/1.2)"
   ]
  },
  {
   "cell_type": "code",
   "execution_count": 981,
   "id": "c158e6e2",
   "metadata": {},
   "outputs": [
    {
     "data": {
      "text/plain": [
       "10.791666666666666"
      ]
     },
     "execution_count": 981,
     "metadata": {},
     "output_type": "execute_result"
    }
   ],
   "source": [
    "df['¢/kWh'].median()/1.2"
   ]
  },
  {
   "cell_type": "code",
   "execution_count": 982,
   "id": "67618f47",
   "metadata": {},
   "outputs": [
    {
     "data": {
      "text/html": [
       "<div>\n",
       "<style scoped>\n",
       "    .dataframe tbody tr th:only-of-type {\n",
       "        vertical-align: middle;\n",
       "    }\n",
       "\n",
       "    .dataframe tbody tr th {\n",
       "        vertical-align: top;\n",
       "    }\n",
       "\n",
       "    .dataframe thead th {\n",
       "        text-align: right;\n",
       "    }\n",
       "</style>\n",
       "<table border=\"1\" class=\"dataframe\">\n",
       "  <thead>\n",
       "    <tr style=\"text-align: right;\">\n",
       "      <th></th>\n",
       "      <th>¢/kWh</th>\n",
       "      <th>Temperature</th>\n",
       "      <th>Humidity</th>\n",
       "    </tr>\n",
       "    <tr>\n",
       "      <th>Date</th>\n",
       "      <th></th>\n",
       "      <th></th>\n",
       "      <th></th>\n",
       "    </tr>\n",
       "  </thead>\n",
       "  <tbody>\n",
       "    <tr>\n",
       "      <th>2016-01-01 00:00:00</th>\n",
       "      <td>10.791667</td>\n",
       "      <td>-0.3</td>\n",
       "      <td>70</td>\n",
       "    </tr>\n",
       "    <tr>\n",
       "      <th>2016-01-01 01:00:00</th>\n",
       "      <td>10.791667</td>\n",
       "      <td>-0.3</td>\n",
       "      <td>68</td>\n",
       "    </tr>\n",
       "    <tr>\n",
       "      <th>2016-01-01 02:00:00</th>\n",
       "      <td>10.791667</td>\n",
       "      <td>-0.4</td>\n",
       "      <td>73</td>\n",
       "    </tr>\n",
       "    <tr>\n",
       "      <th>2016-01-01 12:00:00</th>\n",
       "      <td>10.791667</td>\n",
       "      <td>-2.1</td>\n",
       "      <td>76</td>\n",
       "    </tr>\n",
       "    <tr>\n",
       "      <th>2016-01-01 13:00:00</th>\n",
       "      <td>10.791667</td>\n",
       "      <td>-2.4</td>\n",
       "      <td>84</td>\n",
       "    </tr>\n",
       "    <tr>\n",
       "      <th>...</th>\n",
       "      <td>...</td>\n",
       "      <td>...</td>\n",
       "      <td>...</td>\n",
       "    </tr>\n",
       "    <tr>\n",
       "      <th>2020-12-31 19:00:00</th>\n",
       "      <td>36.850000</td>\n",
       "      <td>0.2</td>\n",
       "      <td>74</td>\n",
       "    </tr>\n",
       "    <tr>\n",
       "      <th>2020-12-31 20:00:00</th>\n",
       "      <td>19.690000</td>\n",
       "      <td>-0.2</td>\n",
       "      <td>65</td>\n",
       "    </tr>\n",
       "    <tr>\n",
       "      <th>2020-12-31 21:00:00</th>\n",
       "      <td>20.780000</td>\n",
       "      <td>-3.0</td>\n",
       "      <td>80</td>\n",
       "    </tr>\n",
       "    <tr>\n",
       "      <th>2020-12-31 22:00:00</th>\n",
       "      <td>27.850000</td>\n",
       "      <td>-0.8</td>\n",
       "      <td>70</td>\n",
       "    </tr>\n",
       "    <tr>\n",
       "      <th>2020-12-31 23:00:00</th>\n",
       "      <td>19.680000</td>\n",
       "      <td>-2.1</td>\n",
       "      <td>73</td>\n",
       "    </tr>\n",
       "  </tbody>\n",
       "</table>\n",
       "<p>39405 rows × 3 columns</p>\n",
       "</div>"
      ],
      "text/plain": [
       "                         ¢/kWh  Temperature  Humidity\n",
       "Date                                                 \n",
       "2016-01-01 00:00:00  10.791667         -0.3        70\n",
       "2016-01-01 01:00:00  10.791667         -0.3        68\n",
       "2016-01-01 02:00:00  10.791667         -0.4        73\n",
       "2016-01-01 12:00:00  10.791667         -2.1        76\n",
       "2016-01-01 13:00:00  10.791667         -2.4        84\n",
       "...                        ...          ...       ...\n",
       "2020-12-31 19:00:00  36.850000          0.2        74\n",
       "2020-12-31 20:00:00  19.690000         -0.2        65\n",
       "2020-12-31 21:00:00  20.780000         -3.0        80\n",
       "2020-12-31 22:00:00  27.850000         -0.8        70\n",
       "2020-12-31 23:00:00  19.680000         -2.1        73\n",
       "\n",
       "[39405 rows x 3 columns]"
      ]
     },
     "execution_count": 982,
     "metadata": {},
     "output_type": "execute_result"
    }
   ],
   "source": [
    "df"
   ]
  },
  {
   "cell_type": "code",
   "execution_count": 983,
   "id": "79e50993",
   "metadata": {},
   "outputs": [
    {
     "data": {
      "text/plain": [
       "¢/kWh          0.0\n",
       "Temperature    0.0\n",
       "Humidity       0.0\n",
       "dtype: float64"
      ]
     },
     "execution_count": 983,
     "metadata": {},
     "output_type": "execute_result"
    }
   ],
   "source": [
    "df[df['¢/kWh']<1].sum()"
   ]
  },
  {
   "cell_type": "code",
   "execution_count": 95,
   "id": "9462f853",
   "metadata": {},
   "outputs": [],
   "source": [
    "#df['2016-01-01 00:00:00':'2016-12-31 23:00:00']=df['2016-01-01 00:00:00':'2016-12-31 23:00:00'].replace(0.00,method='bfill')\n",
    "#df['2017-01-01 00:00:00':'2017-12-31 23:00:00']=df['2017-01-01 00:00:00':'2017-12-31 23:00:00'].replace(0.00,df['2017-01-01 00:00:00':'2017-12-31 23:00:00'].mean())\n",
    "##df['2018-01-01 00:00:00':'2018-12-31 23:00:00']=df['2018-01-01 00:00:00':'2018-12-31 23:00:00'].replace(0.00,df['2018-01-01 00:00:00':'2018-12-31 23:00:00'].mean())\n",
    "#df['2019-01-01 00:00:00':'2019-12-31 23:00:00']=df['2019-01-01 00:00:00':'2019-12-31 23:00:00'].replace(0.00,df['2019-01-01 00:00:00':'2019-12-31 23:00:00'].mean())\n",
    "##df['2020-01-01 00:00:00':'2020-12-31 23:00:00']=df['2020-01-01 00:00:00':'2020-12-31 23:00:00'].replace(0.00,df['2020-01-01 00:00:00':'2020-12-31 23:00:00'].mean())"
   ]
  },
  {
   "cell_type": "code",
   "execution_count": 984,
   "id": "e9b6cbc6",
   "metadata": {},
   "outputs": [],
   "source": [
    "def table2lags(table, max_lag, min_lag=0, separator='_'):\n",
    "    \"\"\" Given a dataframe, return a dataframe with different lags of all its columns \"\"\"\n",
    "    values=[]\n",
    "    for i in range(min_lag, max_lag + 1):\n",
    "        values.append(table.shift(i).copy())\n",
    "        values[-1].columns = [c + separator + str(i) for c in table.columns]\n",
    "    return pd.concat(values, axis=1)"
   ]
  },
  {
   "cell_type": "code",
   "execution_count": 985,
   "id": "c46e97c6",
   "metadata": {},
   "outputs": [
    {
     "data": {
      "text/plain": [
       "(39405, 435)"
      ]
     },
     "execution_count": 985,
     "metadata": {},
     "output_type": "execute_result"
    }
   ],
   "source": [
    "df_lagged = table2lags(df, 168, 24)\n",
    "df_lagged.shape"
   ]
  },
  {
   "cell_type": "code",
   "execution_count": 973,
   "id": "832d20c5",
   "metadata": {},
   "outputs": [
    {
     "data": {
      "text/plain": [
       "Index(['¢/kWh_24', 'Temperature_24', 'Humidity_24', '¢/kWh_25',\n",
       "       'Temperature_25', 'Humidity_25', '¢/kWh_26', 'Temperature_26',\n",
       "       'Humidity_26', '¢/kWh_27',\n",
       "       ...\n",
       "       'Humidity_165', '¢/kWh_166', 'Temperature_166', 'Humidity_166',\n",
       "       '¢/kWh_167', 'Temperature_167', 'Humidity_167', '¢/kWh_168',\n",
       "       'Temperature_168', 'Humidity_168'],\n",
       "      dtype='object', length=435)"
      ]
     },
     "execution_count": 973,
     "metadata": {},
     "output_type": "execute_result"
    }
   ],
   "source": [
    "df_lagged.columns"
   ]
  },
  {
   "cell_type": "code",
   "execution_count": 986,
   "id": "9426c3e2",
   "metadata": {},
   "outputs": [],
   "source": [
    "x_train=df_lagged['2016-01-09 23:00:00':'2018-12-31 23:00:00']\n",
    "#x_valid=df_lagged['2019-01-01 00:00:00':'2019-12-31 23:00:00']\n",
    "x_test= df_lagged['2019-12-01 01:00:00':'2020-12-31 23:00:00']"
   ]
  },
  {
   "cell_type": "code",
   "execution_count": 975,
   "id": "75959f01",
   "metadata": {},
   "outputs": [
    {
     "data": {
      "text/plain": [
       "(9288, 435)"
      ]
     },
     "execution_count": 975,
     "metadata": {},
     "output_type": "execute_result"
    }
   ],
   "source": [
    "x_test.shape"
   ]
  },
  {
   "cell_type": "code",
   "execution_count": 987,
   "id": "89bfa0a8",
   "metadata": {},
   "outputs": [],
   "source": [
    "y_train = df['¢/kWh']['2016-01-09 23:00:00':'2018-12-31 23:00:00']\n",
    "#y_valid = n['¢/kWh']['2019-01-01 00:00:00':'2019-12-31 23:00:00']\n",
    "y_test = df['¢/kWh']['2019-12-01 01:00:00':'2020-12-31 23:00:00']"
   ]
  },
  {
   "cell_type": "code",
   "execution_count": 977,
   "id": "67192553",
   "metadata": {},
   "outputs": [
    {
     "data": {
      "text/plain": [
       "(9288,)"
      ]
     },
     "execution_count": 977,
     "metadata": {},
     "output_type": "execute_result"
    }
   ],
   "source": [
    "y_test.shape"
   ]
  },
  {
   "cell_type": "code",
   "execution_count": 988,
   "id": "612defee",
   "metadata": {},
   "outputs": [
    {
     "data": {
      "text/plain": [
       "RandomForestRegressor(criterion='mae', max_depth=1, max_features=2,\n",
       "                      n_estimators=10)"
      ]
     },
     "execution_count": 988,
     "metadata": {},
     "output_type": "execute_result"
    }
   ],
   "source": [
    "rf = RandomForestRegressor(n_estimators=10, max_features=2,criterion='mae',max_depth=1)\n",
    "rf.fit(x_train, y_train)"
   ]
  },
  {
   "cell_type": "code",
   "execution_count": 989,
   "id": "f04e963a",
   "metadata": {},
   "outputs": [
    {
     "data": {
      "text/plain": [
       "62.55435263809774"
      ]
     },
     "execution_count": 989,
     "metadata": {},
     "output_type": "execute_result"
    }
   ],
   "source": [
    "y_test = pd.DataFrame(y_test)\n",
    "y_pred = rf.predict(x_test)\n",
    "y_test['predictions'] = y_pred\n",
    "y_test['difference'] = np.abs(y_test['¢/kWh'] - y_test['predictions'])\n",
    "y_test['% error'] = (y_test['difference']/y_test['¢/kWh'])*100\n",
    "np.mean(y_test['% error'])"
   ]
  },
  {
   "cell_type": "code",
   "execution_count": 990,
   "id": "5a4f06e7",
   "metadata": {},
   "outputs": [],
   "source": [
    "y_test['% error'] = (y_test['difference']/y_test['¢/kWh'])*100"
   ]
  },
  {
   "cell_type": "code",
   "execution_count": 991,
   "id": "2ed89d24",
   "metadata": {},
   "outputs": [
    {
     "data": {
      "text/html": [
       "<div>\n",
       "<style scoped>\n",
       "    .dataframe tbody tr th:only-of-type {\n",
       "        vertical-align: middle;\n",
       "    }\n",
       "\n",
       "    .dataframe tbody tr th {\n",
       "        vertical-align: top;\n",
       "    }\n",
       "\n",
       "    .dataframe thead th {\n",
       "        text-align: right;\n",
       "    }\n",
       "</style>\n",
       "<table border=\"1\" class=\"dataframe\">\n",
       "  <thead>\n",
       "    <tr style=\"text-align: right;\">\n",
       "      <th></th>\n",
       "      <th>¢/kWh</th>\n",
       "      <th>predictions</th>\n",
       "      <th>difference</th>\n",
       "      <th>% error</th>\n",
       "    </tr>\n",
       "    <tr>\n",
       "      <th>Date</th>\n",
       "      <th></th>\n",
       "      <th></th>\n",
       "      <th></th>\n",
       "      <th></th>\n",
       "    </tr>\n",
       "  </thead>\n",
       "  <tbody>\n",
       "    <tr>\n",
       "      <th>2019-12-01 13:00:00</th>\n",
       "      <td>36.03</td>\n",
       "      <td>11.166167</td>\n",
       "      <td>24.863833</td>\n",
       "      <td>69.008696</td>\n",
       "    </tr>\n",
       "    <tr>\n",
       "      <th>2019-12-01 14:00:00</th>\n",
       "      <td>26.11</td>\n",
       "      <td>11.166167</td>\n",
       "      <td>14.943833</td>\n",
       "      <td>57.234138</td>\n",
       "    </tr>\n",
       "    <tr>\n",
       "      <th>2019-12-01 15:00:00</th>\n",
       "      <td>24.89</td>\n",
       "      <td>11.166167</td>\n",
       "      <td>13.723833</td>\n",
       "      <td>55.137940</td>\n",
       "    </tr>\n",
       "    <tr>\n",
       "      <th>2019-12-01 16:00:00</th>\n",
       "      <td>25.44</td>\n",
       "      <td>11.166167</td>\n",
       "      <td>14.273833</td>\n",
       "      <td>56.107835</td>\n",
       "    </tr>\n",
       "    <tr>\n",
       "      <th>2019-12-01 17:00:00</th>\n",
       "      <td>27.21</td>\n",
       "      <td>11.166167</td>\n",
       "      <td>16.043833</td>\n",
       "      <td>58.963004</td>\n",
       "    </tr>\n",
       "    <tr>\n",
       "      <th>2019-12-01 18:00:00</th>\n",
       "      <td>28.34</td>\n",
       "      <td>11.166167</td>\n",
       "      <td>17.173833</td>\n",
       "      <td>60.599271</td>\n",
       "    </tr>\n",
       "    <tr>\n",
       "      <th>2019-12-01 19:00:00</th>\n",
       "      <td>26.83</td>\n",
       "      <td>10.807333</td>\n",
       "      <td>16.022667</td>\n",
       "      <td>59.719220</td>\n",
       "    </tr>\n",
       "    <tr>\n",
       "      <th>2019-12-01 20:00:00</th>\n",
       "      <td>26.84</td>\n",
       "      <td>10.807333</td>\n",
       "      <td>16.032667</td>\n",
       "      <td>59.734228</td>\n",
       "    </tr>\n",
       "    <tr>\n",
       "      <th>2019-12-01 21:00:00</th>\n",
       "      <td>26.19</td>\n",
       "      <td>11.166167</td>\n",
       "      <td>15.023833</td>\n",
       "      <td>57.364770</td>\n",
       "    </tr>\n",
       "    <tr>\n",
       "      <th>2019-12-01 22:00:00</th>\n",
       "      <td>24.08</td>\n",
       "      <td>11.166167</td>\n",
       "      <td>12.913833</td>\n",
       "      <td>53.628876</td>\n",
       "    </tr>\n",
       "    <tr>\n",
       "      <th>2019-12-01 23:00:00</th>\n",
       "      <td>5.78</td>\n",
       "      <td>11.329167</td>\n",
       "      <td>5.549167</td>\n",
       "      <td>96.006344</td>\n",
       "    </tr>\n",
       "    <tr>\n",
       "      <th>2019-12-02 00:00:00</th>\n",
       "      <td>25.79</td>\n",
       "      <td>11.166167</td>\n",
       "      <td>14.623833</td>\n",
       "      <td>56.703503</td>\n",
       "    </tr>\n",
       "    <tr>\n",
       "      <th>2019-12-02 02:00:00</th>\n",
       "      <td>18.72</td>\n",
       "      <td>11.166167</td>\n",
       "      <td>7.553833</td>\n",
       "      <td>40.351674</td>\n",
       "    </tr>\n",
       "    <tr>\n",
       "      <th>2019-12-02 03:00:00</th>\n",
       "      <td>22.78</td>\n",
       "      <td>11.166167</td>\n",
       "      <td>11.613833</td>\n",
       "      <td>50.982587</td>\n",
       "    </tr>\n",
       "    <tr>\n",
       "      <th>2019-12-02 04:00:00</th>\n",
       "      <td>22.83</td>\n",
       "      <td>10.807333</td>\n",
       "      <td>12.022667</td>\n",
       "      <td>52.661702</td>\n",
       "    </tr>\n",
       "    <tr>\n",
       "      <th>2019-12-02 05:00:00</th>\n",
       "      <td>1.53</td>\n",
       "      <td>11.166167</td>\n",
       "      <td>9.636167</td>\n",
       "      <td>629.814815</td>\n",
       "    </tr>\n",
       "    <tr>\n",
       "      <th>2019-12-02 07:00:00</th>\n",
       "      <td>25.66</td>\n",
       "      <td>10.807333</td>\n",
       "      <td>14.852667</td>\n",
       "      <td>57.882567</td>\n",
       "    </tr>\n",
       "    <tr>\n",
       "      <th>2019-12-02 08:00:00</th>\n",
       "      <td>27.49</td>\n",
       "      <td>10.807333</td>\n",
       "      <td>16.682667</td>\n",
       "      <td>60.686310</td>\n",
       "    </tr>\n",
       "    <tr>\n",
       "      <th>2019-12-02 09:00:00</th>\n",
       "      <td>29.13</td>\n",
       "      <td>10.807333</td>\n",
       "      <td>18.322667</td>\n",
       "      <td>62.899645</td>\n",
       "    </tr>\n",
       "    <tr>\n",
       "      <th>2019-12-02 10:00:00</th>\n",
       "      <td>30.67</td>\n",
       "      <td>10.807333</td>\n",
       "      <td>19.862667</td>\n",
       "      <td>64.762526</td>\n",
       "    </tr>\n",
       "    <tr>\n",
       "      <th>2019-12-02 12:00:00</th>\n",
       "      <td>26.43</td>\n",
       "      <td>10.807333</td>\n",
       "      <td>15.622667</td>\n",
       "      <td>59.109598</td>\n",
       "    </tr>\n",
       "    <tr>\n",
       "      <th>2019-12-02 13:00:00</th>\n",
       "      <td>26.21</td>\n",
       "      <td>10.807333</td>\n",
       "      <td>15.402667</td>\n",
       "      <td>58.766374</td>\n",
       "    </tr>\n",
       "    <tr>\n",
       "      <th>2019-12-02 14:00:00</th>\n",
       "      <td>23.48</td>\n",
       "      <td>10.807333</td>\n",
       "      <td>12.672667</td>\n",
       "      <td>53.972175</td>\n",
       "    </tr>\n",
       "    <tr>\n",
       "      <th>2019-12-02 15:00:00</th>\n",
       "      <td>24.21</td>\n",
       "      <td>10.807333</td>\n",
       "      <td>13.402667</td>\n",
       "      <td>55.360044</td>\n",
       "    </tr>\n",
       "    <tr>\n",
       "      <th>2019-12-02 16:00:00</th>\n",
       "      <td>26.61</td>\n",
       "      <td>10.807333</td>\n",
       "      <td>15.802667</td>\n",
       "      <td>59.386196</td>\n",
       "    </tr>\n",
       "    <tr>\n",
       "      <th>2019-12-02 17:00:00</th>\n",
       "      <td>27.66</td>\n",
       "      <td>10.807333</td>\n",
       "      <td>16.852667</td>\n",
       "      <td>60.927934</td>\n",
       "    </tr>\n",
       "    <tr>\n",
       "      <th>2019-12-02 18:00:00</th>\n",
       "      <td>31.06</td>\n",
       "      <td>10.807333</td>\n",
       "      <td>20.252667</td>\n",
       "      <td>65.204980</td>\n",
       "    </tr>\n",
       "    <tr>\n",
       "      <th>2019-12-02 19:00:00</th>\n",
       "      <td>32.11</td>\n",
       "      <td>10.970333</td>\n",
       "      <td>21.139667</td>\n",
       "      <td>65.835150</td>\n",
       "    </tr>\n",
       "    <tr>\n",
       "      <th>2019-12-02 20:00:00</th>\n",
       "      <td>26.98</td>\n",
       "      <td>10.970333</td>\n",
       "      <td>16.009667</td>\n",
       "      <td>59.339017</td>\n",
       "    </tr>\n",
       "    <tr>\n",
       "      <th>2019-12-02 21:00:00</th>\n",
       "      <td>26.26</td>\n",
       "      <td>10.970333</td>\n",
       "      <td>15.289667</td>\n",
       "      <td>58.224169</td>\n",
       "    </tr>\n",
       "    <tr>\n",
       "      <th>2019-12-02 22:00:00</th>\n",
       "      <td>27.10</td>\n",
       "      <td>11.329167</td>\n",
       "      <td>15.770833</td>\n",
       "      <td>58.194957</td>\n",
       "    </tr>\n",
       "    <tr>\n",
       "      <th>2019-12-02 23:00:00</th>\n",
       "      <td>25.83</td>\n",
       "      <td>11.329167</td>\n",
       "      <td>14.500833</td>\n",
       "      <td>56.139502</td>\n",
       "    </tr>\n",
       "    <tr>\n",
       "      <th>2019-12-03 00:00:00</th>\n",
       "      <td>18.16</td>\n",
       "      <td>11.329167</td>\n",
       "      <td>6.830833</td>\n",
       "      <td>37.614721</td>\n",
       "    </tr>\n",
       "    <tr>\n",
       "      <th>2019-12-03 03:00:00</th>\n",
       "      <td>19.65</td>\n",
       "      <td>11.329167</td>\n",
       "      <td>8.320833</td>\n",
       "      <td>42.345208</td>\n",
       "    </tr>\n",
       "    <tr>\n",
       "      <th>2019-12-03 06:00:00</th>\n",
       "      <td>2.78</td>\n",
       "      <td>11.329167</td>\n",
       "      <td>8.549167</td>\n",
       "      <td>307.523981</td>\n",
       "    </tr>\n",
       "    <tr>\n",
       "      <th>2019-12-03 07:00:00</th>\n",
       "      <td>6.99</td>\n",
       "      <td>11.329167</td>\n",
       "      <td>4.339167</td>\n",
       "      <td>62.076776</td>\n",
       "    </tr>\n",
       "    <tr>\n",
       "      <th>2019-12-03 08:00:00</th>\n",
       "      <td>24.67</td>\n",
       "      <td>11.329167</td>\n",
       "      <td>13.340833</td>\n",
       "      <td>54.077152</td>\n",
       "    </tr>\n",
       "    <tr>\n",
       "      <th>2019-12-03 09:00:00</th>\n",
       "      <td>24.31</td>\n",
       "      <td>11.329167</td>\n",
       "      <td>12.980833</td>\n",
       "      <td>53.397093</td>\n",
       "    </tr>\n",
       "    <tr>\n",
       "      <th>2019-12-03 10:00:00</th>\n",
       "      <td>25.15</td>\n",
       "      <td>10.970333</td>\n",
       "      <td>14.179667</td>\n",
       "      <td>56.380384</td>\n",
       "    </tr>\n",
       "    <tr>\n",
       "      <th>2019-12-03 11:00:00</th>\n",
       "      <td>25.20</td>\n",
       "      <td>11.329167</td>\n",
       "      <td>13.870833</td>\n",
       "      <td>55.042989</td>\n",
       "    </tr>\n",
       "    <tr>\n",
       "      <th>2019-12-03 12:00:00</th>\n",
       "      <td>25.21</td>\n",
       "      <td>10.970333</td>\n",
       "      <td>14.239667</td>\n",
       "      <td>56.484199</td>\n",
       "    </tr>\n",
       "    <tr>\n",
       "      <th>2019-12-03 13:00:00</th>\n",
       "      <td>25.20</td>\n",
       "      <td>11.329167</td>\n",
       "      <td>13.870833</td>\n",
       "      <td>55.042989</td>\n",
       "    </tr>\n",
       "    <tr>\n",
       "      <th>2019-12-03 14:00:00</th>\n",
       "      <td>23.52</td>\n",
       "      <td>11.329167</td>\n",
       "      <td>12.190833</td>\n",
       "      <td>51.831774</td>\n",
       "    </tr>\n",
       "    <tr>\n",
       "      <th>2019-12-03 15:00:00</th>\n",
       "      <td>16.76</td>\n",
       "      <td>11.329167</td>\n",
       "      <td>5.430833</td>\n",
       "      <td>32.403540</td>\n",
       "    </tr>\n",
       "    <tr>\n",
       "      <th>2019-12-03 17:00:00</th>\n",
       "      <td>22.02</td>\n",
       "      <td>10.807333</td>\n",
       "      <td>11.212667</td>\n",
       "      <td>50.920375</td>\n",
       "    </tr>\n",
       "    <tr>\n",
       "      <th>2019-12-03 18:00:00</th>\n",
       "      <td>25.02</td>\n",
       "      <td>11.166167</td>\n",
       "      <td>13.853833</td>\n",
       "      <td>55.371037</td>\n",
       "    </tr>\n",
       "    <tr>\n",
       "      <th>2019-12-03 19:00:00</th>\n",
       "      <td>25.41</td>\n",
       "      <td>11.166167</td>\n",
       "      <td>14.243833</td>\n",
       "      <td>56.056015</td>\n",
       "    </tr>\n",
       "    <tr>\n",
       "      <th>2019-12-03 20:00:00</th>\n",
       "      <td>23.50</td>\n",
       "      <td>11.166167</td>\n",
       "      <td>12.333833</td>\n",
       "      <td>52.484397</td>\n",
       "    </tr>\n",
       "    <tr>\n",
       "      <th>2019-12-03 21:00:00</th>\n",
       "      <td>19.56</td>\n",
       "      <td>11.166167</td>\n",
       "      <td>8.393833</td>\n",
       "      <td>42.913258</td>\n",
       "    </tr>\n",
       "    <tr>\n",
       "      <th>2019-12-03 22:00:00</th>\n",
       "      <td>18.74</td>\n",
       "      <td>11.166167</td>\n",
       "      <td>7.573833</td>\n",
       "      <td>40.415333</td>\n",
       "    </tr>\n",
       "  </tbody>\n",
       "</table>\n",
       "</div>"
      ],
      "text/plain": [
       "                     ¢/kWh  predictions  difference     % error\n",
       "Date                                                           \n",
       "2019-12-01 13:00:00  36.03    11.166167   24.863833   69.008696\n",
       "2019-12-01 14:00:00  26.11    11.166167   14.943833   57.234138\n",
       "2019-12-01 15:00:00  24.89    11.166167   13.723833   55.137940\n",
       "2019-12-01 16:00:00  25.44    11.166167   14.273833   56.107835\n",
       "2019-12-01 17:00:00  27.21    11.166167   16.043833   58.963004\n",
       "2019-12-01 18:00:00  28.34    11.166167   17.173833   60.599271\n",
       "2019-12-01 19:00:00  26.83    10.807333   16.022667   59.719220\n",
       "2019-12-01 20:00:00  26.84    10.807333   16.032667   59.734228\n",
       "2019-12-01 21:00:00  26.19    11.166167   15.023833   57.364770\n",
       "2019-12-01 22:00:00  24.08    11.166167   12.913833   53.628876\n",
       "2019-12-01 23:00:00   5.78    11.329167    5.549167   96.006344\n",
       "2019-12-02 00:00:00  25.79    11.166167   14.623833   56.703503\n",
       "2019-12-02 02:00:00  18.72    11.166167    7.553833   40.351674\n",
       "2019-12-02 03:00:00  22.78    11.166167   11.613833   50.982587\n",
       "2019-12-02 04:00:00  22.83    10.807333   12.022667   52.661702\n",
       "2019-12-02 05:00:00   1.53    11.166167    9.636167  629.814815\n",
       "2019-12-02 07:00:00  25.66    10.807333   14.852667   57.882567\n",
       "2019-12-02 08:00:00  27.49    10.807333   16.682667   60.686310\n",
       "2019-12-02 09:00:00  29.13    10.807333   18.322667   62.899645\n",
       "2019-12-02 10:00:00  30.67    10.807333   19.862667   64.762526\n",
       "2019-12-02 12:00:00  26.43    10.807333   15.622667   59.109598\n",
       "2019-12-02 13:00:00  26.21    10.807333   15.402667   58.766374\n",
       "2019-12-02 14:00:00  23.48    10.807333   12.672667   53.972175\n",
       "2019-12-02 15:00:00  24.21    10.807333   13.402667   55.360044\n",
       "2019-12-02 16:00:00  26.61    10.807333   15.802667   59.386196\n",
       "2019-12-02 17:00:00  27.66    10.807333   16.852667   60.927934\n",
       "2019-12-02 18:00:00  31.06    10.807333   20.252667   65.204980\n",
       "2019-12-02 19:00:00  32.11    10.970333   21.139667   65.835150\n",
       "2019-12-02 20:00:00  26.98    10.970333   16.009667   59.339017\n",
       "2019-12-02 21:00:00  26.26    10.970333   15.289667   58.224169\n",
       "2019-12-02 22:00:00  27.10    11.329167   15.770833   58.194957\n",
       "2019-12-02 23:00:00  25.83    11.329167   14.500833   56.139502\n",
       "2019-12-03 00:00:00  18.16    11.329167    6.830833   37.614721\n",
       "2019-12-03 03:00:00  19.65    11.329167    8.320833   42.345208\n",
       "2019-12-03 06:00:00   2.78    11.329167    8.549167  307.523981\n",
       "2019-12-03 07:00:00   6.99    11.329167    4.339167   62.076776\n",
       "2019-12-03 08:00:00  24.67    11.329167   13.340833   54.077152\n",
       "2019-12-03 09:00:00  24.31    11.329167   12.980833   53.397093\n",
       "2019-12-03 10:00:00  25.15    10.970333   14.179667   56.380384\n",
       "2019-12-03 11:00:00  25.20    11.329167   13.870833   55.042989\n",
       "2019-12-03 12:00:00  25.21    10.970333   14.239667   56.484199\n",
       "2019-12-03 13:00:00  25.20    11.329167   13.870833   55.042989\n",
       "2019-12-03 14:00:00  23.52    11.329167   12.190833   51.831774\n",
       "2019-12-03 15:00:00  16.76    11.329167    5.430833   32.403540\n",
       "2019-12-03 17:00:00  22.02    10.807333   11.212667   50.920375\n",
       "2019-12-03 18:00:00  25.02    11.166167   13.853833   55.371037\n",
       "2019-12-03 19:00:00  25.41    11.166167   14.243833   56.056015\n",
       "2019-12-03 20:00:00  23.50    11.166167   12.333833   52.484397\n",
       "2019-12-03 21:00:00  19.56    11.166167    8.393833   42.913258\n",
       "2019-12-03 22:00:00  18.74    11.166167    7.573833   40.415333"
      ]
     },
     "execution_count": 991,
     "metadata": {},
     "output_type": "execute_result"
    }
   ],
   "source": [
    "y_test[y_test['% error']>30].head(50)"
   ]
  },
  {
   "cell_type": "code",
   "execution_count": 992,
   "id": "c7d2c194",
   "metadata": {},
   "outputs": [
    {
     "data": {
      "text/html": [
       "<div>\n",
       "<style scoped>\n",
       "    .dataframe tbody tr th:only-of-type {\n",
       "        vertical-align: middle;\n",
       "    }\n",
       "\n",
       "    .dataframe tbody tr th {\n",
       "        vertical-align: top;\n",
       "    }\n",
       "\n",
       "    .dataframe thead th {\n",
       "        text-align: right;\n",
       "    }\n",
       "</style>\n",
       "<table border=\"1\" class=\"dataframe\">\n",
       "  <thead>\n",
       "    <tr style=\"text-align: right;\">\n",
       "      <th></th>\n",
       "      <th>¢/kWh</th>\n",
       "      <th>predictions</th>\n",
       "      <th>difference</th>\n",
       "      <th>% error</th>\n",
       "    </tr>\n",
       "    <tr>\n",
       "      <th>Date</th>\n",
       "      <th></th>\n",
       "      <th></th>\n",
       "      <th></th>\n",
       "      <th></th>\n",
       "    </tr>\n",
       "  </thead>\n",
       "  <tbody>\n",
       "    <tr>\n",
       "      <th>2019-12-01 01:00:00</th>\n",
       "      <td>10.791667</td>\n",
       "      <td>11.166167</td>\n",
       "      <td>0.374500</td>\n",
       "      <td>3.470270</td>\n",
       "    </tr>\n",
       "    <tr>\n",
       "      <th>2019-12-01 02:00:00</th>\n",
       "      <td>10.791667</td>\n",
       "      <td>11.166167</td>\n",
       "      <td>0.374500</td>\n",
       "      <td>3.470270</td>\n",
       "    </tr>\n",
       "    <tr>\n",
       "      <th>2019-12-01 03:00:00</th>\n",
       "      <td>10.791667</td>\n",
       "      <td>11.166167</td>\n",
       "      <td>0.374500</td>\n",
       "      <td>3.470270</td>\n",
       "    </tr>\n",
       "    <tr>\n",
       "      <th>2019-12-01 04:00:00</th>\n",
       "      <td>10.791667</td>\n",
       "      <td>11.166167</td>\n",
       "      <td>0.374500</td>\n",
       "      <td>3.470270</td>\n",
       "    </tr>\n",
       "    <tr>\n",
       "      <th>2019-12-01 05:00:00</th>\n",
       "      <td>10.791667</td>\n",
       "      <td>11.166167</td>\n",
       "      <td>0.374500</td>\n",
       "      <td>3.470270</td>\n",
       "    </tr>\n",
       "    <tr>\n",
       "      <th>...</th>\n",
       "      <td>...</td>\n",
       "      <td>...</td>\n",
       "      <td>...</td>\n",
       "      <td>...</td>\n",
       "    </tr>\n",
       "    <tr>\n",
       "      <th>2020-12-31 19:00:00</th>\n",
       "      <td>36.850000</td>\n",
       "      <td>10.807333</td>\n",
       "      <td>26.042667</td>\n",
       "      <td>70.672094</td>\n",
       "    </tr>\n",
       "    <tr>\n",
       "      <th>2020-12-31 20:00:00</th>\n",
       "      <td>19.690000</td>\n",
       "      <td>10.807333</td>\n",
       "      <td>8.882667</td>\n",
       "      <td>45.112578</td>\n",
       "    </tr>\n",
       "    <tr>\n",
       "      <th>2020-12-31 21:00:00</th>\n",
       "      <td>20.780000</td>\n",
       "      <td>11.166167</td>\n",
       "      <td>9.613833</td>\n",
       "      <td>46.264838</td>\n",
       "    </tr>\n",
       "    <tr>\n",
       "      <th>2020-12-31 22:00:00</th>\n",
       "      <td>27.850000</td>\n",
       "      <td>11.166167</td>\n",
       "      <td>16.683833</td>\n",
       "      <td>59.906044</td>\n",
       "    </tr>\n",
       "    <tr>\n",
       "      <th>2020-12-31 23:00:00</th>\n",
       "      <td>19.680000</td>\n",
       "      <td>11.166167</td>\n",
       "      <td>8.513833</td>\n",
       "      <td>43.261348</td>\n",
       "    </tr>\n",
       "  </tbody>\n",
       "</table>\n",
       "<p>8147 rows × 4 columns</p>\n",
       "</div>"
      ],
      "text/plain": [
       "                         ¢/kWh  predictions  difference    % error\n",
       "Date                                                              \n",
       "2019-12-01 01:00:00  10.791667    11.166167    0.374500   3.470270\n",
       "2019-12-01 02:00:00  10.791667    11.166167    0.374500   3.470270\n",
       "2019-12-01 03:00:00  10.791667    11.166167    0.374500   3.470270\n",
       "2019-12-01 04:00:00  10.791667    11.166167    0.374500   3.470270\n",
       "2019-12-01 05:00:00  10.791667    11.166167    0.374500   3.470270\n",
       "...                        ...          ...         ...        ...\n",
       "2020-12-31 19:00:00  36.850000    10.807333   26.042667  70.672094\n",
       "2020-12-31 20:00:00  19.690000    10.807333    8.882667  45.112578\n",
       "2020-12-31 21:00:00  20.780000    11.166167    9.613833  46.264838\n",
       "2020-12-31 22:00:00  27.850000    11.166167   16.683833  59.906044\n",
       "2020-12-31 23:00:00  19.680000    11.166167    8.513833  43.261348\n",
       "\n",
       "[8147 rows x 4 columns]"
      ]
     },
     "execution_count": 992,
     "metadata": {},
     "output_type": "execute_result"
    }
   ],
   "source": [
    "y_test.drop(y_test.loc[y_test['% error'] > 100].index, inplace = False)"
   ]
  },
  {
   "cell_type": "code",
   "execution_count": 993,
   "id": "0eaf8cda",
   "metadata": {},
   "outputs": [
    {
     "data": {
      "text/plain": [
       "523.8464990669057"
      ]
     },
     "execution_count": 993,
     "metadata": {},
     "output_type": "execute_result"
    }
   ],
   "source": [
    "np.mean(np.abs(y_test['¢/kWh'] - y_test['predictions']) * 100)"
   ]
  },
  {
   "cell_type": "code",
   "execution_count": 994,
   "id": "3f172196",
   "metadata": {},
   "outputs": [
    {
     "data": {
      "text/plain": [
       "<AxesSubplot:>"
      ]
     },
     "execution_count": 994,
     "metadata": {},
     "output_type": "execute_result"
    },
    {
     "data": {
      "image/png": "[encoded data removed]",
      "text/plain": [
       "<Figure size 432x288 with 1 Axes>"
      ]
     },
     "metadata": {
      "needs_background": "light"
     },
     "output_type": "display_data"
    }
   ],
   "source": [
    "feat_importances = pd.Series(rf.feature_importances_, index=df_lagged.columns)\n",
    "feat_importances.nlargest(10).plot(kind='barh')"
   ]
  },
  {
   "cell_type": "code",
   "execution_count": 1012,
   "id": "cd4ea9ed",
   "metadata": {},
   "outputs": [],
   "source": [
    "from sklearn.model_selection import GridSearchCV\n",
    "# Number of trees in random forest\n",
    "# n_estimators = [int(x) for x in np.linspace(start = 200, stop = 2000, num = 10)]\n",
    "# Number of features to consider at every split\n",
    "# max_features = ['auto', 'sqrt']\n",
    "# Maximum number of levels in tree\n",
    "# max_depth = [int(x) for x in np.linspace(10, 110, num = 11)]\n",
    "# max_depth.append(None)\n",
    "# Minimum number of samples required to split a node\n",
    "# min_samples_split = [2, 5, 10]\n",
    "# Minimum number of samples required at each leaf node\n",
    "# min_samples_leaf = [1, 2, 4]\n",
    "# Method of selecting samples for training each tree\n",
    "# bootstrap = [True, False]\n",
    "# Create the random grid\n",
    "gridsearch = {'bootstrap': [True],\n",
    "     'max_depth': [10, 250],\n",
    "     'min_samples_leaf': [2, 5],\n",
    "     'n_estimators': [100, 200]}\n",
    "# print(gridsearch)\n",
    "# {'bootstrap': [True],\n",
    "#  'max_depth': [10, 50, 250,1000],\n",
    "#  'max_features': [2, 'sqrt'],\n",
    "#  'min_samples_leaf': [1, 4],\n",
    "#  'min_samples_split': [2, 5, 10],\n",
    "#  'n_estimators': [200, 1000, 2000]}"
   ]
  },
  {
   "cell_type": "code",
   "execution_count": 1013,
   "id": "1b03a314",
   "metadata": {},
   "outputs": [],
   "source": [
    "rf = RandomForestRegressor()\n",
    "# Random search of parameters, using 3 fold cross validation, \n",
    "# search across 100 different combinations, and use all available cores\n",
    "rf_GridSearch = GridSearchCV(\n",
    " estimator = rf, \n",
    " param_grid = gridsearch, \n",
    " cv = 4,\n",
    " verbose=2, \n",
    " n_jobs = 1)"
   ]
  },
  {
   "cell_type": "code",
   "execution_count": 1014,
   "id": "465cee3e",
   "metadata": {},
   "outputs": [
    {
     "name": "stdout",
     "output_type": "stream",
     "text": [
      "Fitting 4 folds for each of 8 candidates, totalling 32 fits\n",
      "[CV] bootstrap=True, max_depth=10, min_samples_leaf=2, n_estimators=100 \n"
     ]
    },
    {
     "name": "stderr",
     "output_type": "stream",
     "text": [
      "[Parallel(n_jobs=1)]: Using backend SequentialBackend with 1 concurrent workers.\n"
     ]
    },
    {
     "name": "stdout",
     "output_type": "stream",
     "text": [
      "[CV]  bootstrap=True, max_depth=10, min_samples_leaf=2, n_estimators=100, total= 4.3min\n",
      "[CV] bootstrap=True, max_depth=10, min_samples_leaf=2, n_estimators=100 \n"
     ]
    },
    {
     "name": "stderr",
     "output_type": "stream",
     "text": [
      "[Parallel(n_jobs=1)]: Done   1 out of   1 | elapsed:  4.3min remaining:    0.0s\n"
     ]
    },
    {
     "name": "stdout",
     "output_type": "stream",
     "text": [
      "[CV]  bootstrap=True, max_depth=10, min_samples_leaf=2, n_estimators=100, total= 4.4min\n",
      "[CV] bootstrap=True, max_depth=10, min_samples_leaf=2, n_estimators=100 \n",
      "[CV]  bootstrap=True, max_depth=10, min_samples_leaf=2, n_estimators=100, total= 4.3min\n",
      "[CV] bootstrap=True, max_depth=10, min_samples_leaf=2, n_estimators=100 \n",
      "[CV]  bootstrap=True, max_depth=10, min_samples_leaf=2, n_estimators=100, total= 4.3min\n",
      "[CV] bootstrap=True, max_depth=10, min_samples_leaf=2, n_estimators=200 \n",
      "[CV]  bootstrap=True, max_depth=10, min_samples_leaf=2, n_estimators=200, total= 9.6min\n",
      "[CV] bootstrap=True, max_depth=10, min_samples_leaf=2, n_estimators=200 \n",
      "[CV]  bootstrap=True, max_depth=10, min_samples_leaf=2, n_estimators=200, total=10.0min\n",
      "[CV] bootstrap=True, max_depth=10, min_samples_leaf=2, n_estimators=200 \n",
      "[CV]  bootstrap=True, max_depth=10, min_samples_leaf=2, n_estimators=200, total= 9.7min\n",
      "[CV] bootstrap=True, max_depth=10, min_samples_leaf=2, n_estimators=200 \n",
      "[CV]  bootstrap=True, max_depth=10, min_samples_leaf=2, n_estimators=200, total= 9.5min\n",
      "[CV] bootstrap=True, max_depth=10, min_samples_leaf=5, n_estimators=100 \n",
      "[CV]  bootstrap=True, max_depth=10, min_samples_leaf=5, n_estimators=100, total= 4.6min\n",
      "[CV] bootstrap=True, max_depth=10, min_samples_leaf=5, n_estimators=100 \n",
      "[CV]  bootstrap=True, max_depth=10, min_samples_leaf=5, n_estimators=100, total= 4.7min\n",
      "[CV] bootstrap=True, max_depth=10, min_samples_leaf=5, n_estimators=100 \n",
      "[CV]  bootstrap=True, max_depth=10, min_samples_leaf=5, n_estimators=100, total= 4.6min\n",
      "[CV] bootstrap=True, max_depth=10, min_samples_leaf=5, n_estimators=100 \n",
      "[CV]  bootstrap=True, max_depth=10, min_samples_leaf=5, n_estimators=100, total= 4.7min\n",
      "[CV] bootstrap=True, max_depth=10, min_samples_leaf=5, n_estimators=200 \n",
      "[CV]  bootstrap=True, max_depth=10, min_samples_leaf=5, n_estimators=200, total= 9.3min\n",
      "[CV] bootstrap=True, max_depth=10, min_samples_leaf=5, n_estimators=200 \n",
      "[CV]  bootstrap=True, max_depth=10, min_samples_leaf=5, n_estimators=200, total= 9.8min\n",
      "[CV] bootstrap=True, max_depth=10, min_samples_leaf=5, n_estimators=200 \n",
      "[CV]  bootstrap=True, max_depth=10, min_samples_leaf=5, n_estimators=200, total= 9.8min\n",
      "[CV] bootstrap=True, max_depth=10, min_samples_leaf=5, n_estimators=200 \n",
      "[CV]  bootstrap=True, max_depth=10, min_samples_leaf=5, n_estimators=200, total= 9.1min\n",
      "[CV] bootstrap=True, max_depth=250, min_samples_leaf=2, n_estimators=100 \n",
      "[CV]  bootstrap=True, max_depth=250, min_samples_leaf=2, n_estimators=100, total= 9.7min\n",
      "[CV] bootstrap=True, max_depth=250, min_samples_leaf=2, n_estimators=100 \n",
      "[CV]  bootstrap=True, max_depth=250, min_samples_leaf=2, n_estimators=100, total=10.4min\n",
      "[CV] bootstrap=True, max_depth=250, min_samples_leaf=2, n_estimators=100 \n",
      "[CV]  bootstrap=True, max_depth=250, min_samples_leaf=2, n_estimators=100, total=10.1min\n",
      "[CV] bootstrap=True, max_depth=250, min_samples_leaf=2, n_estimators=100 \n",
      "[CV]  bootstrap=True, max_depth=250, min_samples_leaf=2, n_estimators=100, total=10.7min\n",
      "[CV] bootstrap=True, max_depth=250, min_samples_leaf=2, n_estimators=200 \n",
      "[CV]  bootstrap=True, max_depth=250, min_samples_leaf=2, n_estimators=200, total=19.2min\n",
      "[CV] bootstrap=True, max_depth=250, min_samples_leaf=2, n_estimators=200 \n",
      "[CV]  bootstrap=True, max_depth=250, min_samples_leaf=2, n_estimators=200, total=18.7min\n",
      "[CV] bootstrap=True, max_depth=250, min_samples_leaf=2, n_estimators=200 \n",
      "[CV]  bootstrap=True, max_depth=250, min_samples_leaf=2, n_estimators=200, total=19.5min\n",
      "[CV] bootstrap=True, max_depth=250, min_samples_leaf=2, n_estimators=200 \n",
      "[CV]  bootstrap=True, max_depth=250, min_samples_leaf=2, n_estimators=200, total=20.3min\n",
      "[CV] bootstrap=True, max_depth=250, min_samples_leaf=5, n_estimators=100 \n",
      "[CV]  bootstrap=True, max_depth=250, min_samples_leaf=5, n_estimators=100, total= 7.5min\n",
      "[CV] bootstrap=True, max_depth=250, min_samples_leaf=5, n_estimators=100 \n",
      "[CV]  bootstrap=True, max_depth=250, min_samples_leaf=5, n_estimators=100, total= 8.0min\n",
      "[CV] bootstrap=True, max_depth=250, min_samples_leaf=5, n_estimators=100 \n",
      "[CV]  bootstrap=True, max_depth=250, min_samples_leaf=5, n_estimators=100, total= 8.1min\n",
      "[CV] bootstrap=True, max_depth=250, min_samples_leaf=5, n_estimators=100 \n",
      "[CV]  bootstrap=True, max_depth=250, min_samples_leaf=5, n_estimators=100, total= 8.9min\n",
      "[CV] bootstrap=True, max_depth=250, min_samples_leaf=5, n_estimators=200 \n",
      "[CV]  bootstrap=True, max_depth=250, min_samples_leaf=5, n_estimators=200, total=15.9min\n",
      "[CV] bootstrap=True, max_depth=250, min_samples_leaf=5, n_estimators=200 \n",
      "[CV]  bootstrap=True, max_depth=250, min_samples_leaf=5, n_estimators=200, total=17.0min\n",
      "[CV] bootstrap=True, max_depth=250, min_samples_leaf=5, n_estimators=200 \n",
      "[CV]  bootstrap=True, max_depth=250, min_samples_leaf=5, n_estimators=200, total=16.7min\n",
      "[CV] bootstrap=True, max_depth=250, min_samples_leaf=5, n_estimators=200 \n",
      "[CV]  bootstrap=True, max_depth=250, min_samples_leaf=5, n_estimators=200, total=18.0min\n"
     ]
    },
    {
     "name": "stderr",
     "output_type": "stream",
     "text": [
      "[Parallel(n_jobs=1)]: Done  32 out of  32 | elapsed: 331.2min finished\n"
     ]
    },
    {
     "data": {
      "text/plain": [
       "GridSearchCV(cv=4, estimator=RandomForestRegressor(), n_jobs=1,\n",
       "             param_grid={'bootstrap': [True], 'max_depth': [10, 250],\n",
       "                         'min_samples_leaf': [2, 5],\n",
       "                         'n_estimators': [100, 200]},\n",
       "             verbose=2)"
      ]
     },
     "execution_count": 1014,
     "metadata": {},
     "output_type": "execute_result"
    }
   ],
   "source": [
    "rf_GridSearch.fit(x_train, y_train)"
   ]
  },
  {
   "cell_type": "code",
   "execution_count": 1015,
   "id": "ca381fd4",
   "metadata": {},
   "outputs": [
    {
     "name": "stdout",
     "output_type": "stream",
     "text": [
      "0.16804672756974906\n",
      "{'bootstrap': True, 'max_depth': 10, 'min_samples_leaf': 5, 'n_estimators': 100}\n"
     ]
    }
   ],
   "source": [
    "print(rf_GridSearch.best_score_)\n",
    "print(rf_GridSearch.best_params_)"
   ]
  },
  {
   "cell_type": "code",
   "execution_count": 1016,
   "id": "0618b834",
   "metadata": {},
   "outputs": [],
   "source": [
    "rf = RandomForestRegressor(bootstrap= True,n_estimators=100,min_samples_leaf= 5,max_features=2\n",
    "    ,criterion='mae',\n",
    "    max_depth=10)"
   ]
  },
  {
   "cell_type": "code",
   "execution_count": 1018,
   "id": "f020e748",
   "metadata": {},
   "outputs": [
    {
     "data": {
      "text/plain": [
       "RandomForestRegressor(criterion='mae', max_depth=10, max_features=2,\n",
       "                      min_samples_leaf=5)"
      ]
     },
     "execution_count": 1018,
     "metadata": {},
     "output_type": "execute_result"
    }
   ],
   "source": [
    "rf.fit(x_train, y_train)"
   ]
  },
  {
   "cell_type": "code",
   "execution_count": 1019,
   "id": "5663c2ee",
   "metadata": {},
   "outputs": [],
   "source": [
    "prediction1 = rf.predict(x_test)"
   ]
  },
  {
   "cell_type": "code",
   "execution_count": 1020,
   "id": "6b42955a",
   "metadata": {},
   "outputs": [
    {
     "data": {
      "text/plain": [
       "array([13.48188333, 14.24653333, 13.79440833, ..., 12.28345833,\n",
       "       12.00640833, 13.02938333])"
      ]
     },
     "execution_count": 1020,
     "metadata": {},
     "output_type": "execute_result"
    }
   ],
   "source": [
    "prediction1"
   ]
  },
  {
   "cell_type": "code",
   "execution_count": 1021,
   "id": "8ec2f326",
   "metadata": {},
   "outputs": [
    {
     "data": {
      "text/html": [
       "<div>\n",
       "<style scoped>\n",
       "    .dataframe tbody tr th:only-of-type {\n",
       "        vertical-align: middle;\n",
       "    }\n",
       "\n",
       "    .dataframe tbody tr th {\n",
       "        vertical-align: top;\n",
       "    }\n",
       "\n",
       "    .dataframe thead th {\n",
       "        text-align: right;\n",
       "    }\n",
       "</style>\n",
       "<table border=\"1\" class=\"dataframe\">\n",
       "  <thead>\n",
       "    <tr style=\"text-align: right;\">\n",
       "      <th></th>\n",
       "      <th>prediction</th>\n",
       "    </tr>\n",
       "  </thead>\n",
       "  <tbody>\n",
       "    <tr>\n",
       "      <th>0</th>\n",
       "      <td>13.481883</td>\n",
       "    </tr>\n",
       "    <tr>\n",
       "      <th>1</th>\n",
       "      <td>14.246533</td>\n",
       "    </tr>\n",
       "    <tr>\n",
       "      <th>2</th>\n",
       "      <td>13.794408</td>\n",
       "    </tr>\n",
       "    <tr>\n",
       "      <th>3</th>\n",
       "      <td>13.644700</td>\n",
       "    </tr>\n",
       "    <tr>\n",
       "      <th>4</th>\n",
       "      <td>13.209292</td>\n",
       "    </tr>\n",
       "    <tr>\n",
       "      <th>...</th>\n",
       "      <td>...</td>\n",
       "    </tr>\n",
       "    <tr>\n",
       "      <th>9283</th>\n",
       "      <td>13.354150</td>\n",
       "    </tr>\n",
       "    <tr>\n",
       "      <th>9284</th>\n",
       "      <td>12.385833</td>\n",
       "    </tr>\n",
       "    <tr>\n",
       "      <th>9285</th>\n",
       "      <td>12.283458</td>\n",
       "    </tr>\n",
       "    <tr>\n",
       "      <th>9286</th>\n",
       "      <td>12.006408</td>\n",
       "    </tr>\n",
       "    <tr>\n",
       "      <th>9287</th>\n",
       "      <td>13.029383</td>\n",
       "    </tr>\n",
       "  </tbody>\n",
       "</table>\n",
       "<p>9288 rows × 1 columns</p>\n",
       "</div>"
      ],
      "text/plain": [
       "      prediction\n",
       "0      13.481883\n",
       "1      14.246533\n",
       "2      13.794408\n",
       "3      13.644700\n",
       "4      13.209292\n",
       "...          ...\n",
       "9283   13.354150\n",
       "9284   12.385833\n",
       "9285   12.283458\n",
       "9286   12.006408\n",
       "9287   13.029383\n",
       "\n",
       "[9288 rows x 1 columns]"
      ]
     },
     "execution_count": 1021,
     "metadata": {},
     "output_type": "execute_result"
    }
   ],
   "source": [
    "prediction = pd.DataFrame(data=prediction1,columns=['prediction'])\n",
    "prediction.to_csv('randomforestprediction.csv')\n",
    "prediction"
   ]
  },
  {
   "cell_type": "code",
   "execution_count": 1022,
   "id": "9fb6e908",
   "metadata": {},
   "outputs": [
    {
     "data": {
      "text/plain": [
       "9288"
      ]
     },
     "execution_count": 1022,
     "metadata": {},
     "output_type": "execute_result"
    }
   ],
   "source": [
    "len(prediction)"
   ]
  },
  {
   "cell_type": "code",
   "execution_count": 1023,
   "id": "b28e2de0",
   "metadata": {},
   "outputs": [
    {
     "data": {
      "text/plain": [
       "9288"
      ]
     },
     "execution_count": 1023,
     "metadata": {},
     "output_type": "execute_result"
    }
   ],
   "source": [
    "len(x_test)"
   ]
  },
  {
   "cell_type": "code",
   "execution_count": 1024,
   "id": "13b596ff",
   "metadata": {},
   "outputs": [
    {
     "data": {
      "text/plain": [
       "¢/kWh_24           0\n",
       "Temperature_24     0\n",
       "Humidity_24        0\n",
       "¢/kWh_25           0\n",
       "Temperature_25     0\n",
       "                  ..\n",
       "Temperature_167    0\n",
       "Humidity_167       0\n",
       "¢/kWh_168          0\n",
       "Temperature_168    0\n",
       "Humidity_168       0\n",
       "Length: 435, dtype: int64"
      ]
     },
     "execution_count": 1024,
     "metadata": {},
     "output_type": "execute_result"
    }
   ],
   "source": [
    "x_test.isna().sum()"
   ]
  },
  {
   "cell_type": "code",
   "execution_count": 1025,
   "id": "54d33d32",
   "metadata": {},
   "outputs": [
    {
     "data": {
      "text/html": [
       "<div>\n",
       "<style scoped>\n",
       "    .dataframe tbody tr th:only-of-type {\n",
       "        vertical-align: middle;\n",
       "    }\n",
       "\n",
       "    .dataframe tbody tr th {\n",
       "        vertical-align: top;\n",
       "    }\n",
       "\n",
       "    .dataframe thead th {\n",
       "        text-align: right;\n",
       "    }\n",
       "</style>\n",
       "<table border=\"1\" class=\"dataframe\">\n",
       "  <thead>\n",
       "    <tr style=\"text-align: right;\">\n",
       "      <th></th>\n",
       "      <th>¢/kWh</th>\n",
       "      <th>predictions</th>\n",
       "      <th>difference</th>\n",
       "      <th>% error</th>\n",
       "    </tr>\n",
       "    <tr>\n",
       "      <th>Date</th>\n",
       "      <th></th>\n",
       "      <th></th>\n",
       "      <th></th>\n",
       "      <th></th>\n",
       "    </tr>\n",
       "  </thead>\n",
       "  <tbody>\n",
       "    <tr>\n",
       "      <th>2019-12-01 01:00:00</th>\n",
       "      <td>10.791667</td>\n",
       "      <td>11.166167</td>\n",
       "      <td>0.374500</td>\n",
       "      <td>3.470270</td>\n",
       "    </tr>\n",
       "    <tr>\n",
       "      <th>2019-12-01 02:00:00</th>\n",
       "      <td>10.791667</td>\n",
       "      <td>11.166167</td>\n",
       "      <td>0.374500</td>\n",
       "      <td>3.470270</td>\n",
       "    </tr>\n",
       "    <tr>\n",
       "      <th>2019-12-01 03:00:00</th>\n",
       "      <td>10.791667</td>\n",
       "      <td>11.166167</td>\n",
       "      <td>0.374500</td>\n",
       "      <td>3.470270</td>\n",
       "    </tr>\n",
       "    <tr>\n",
       "      <th>2019-12-01 04:00:00</th>\n",
       "      <td>10.791667</td>\n",
       "      <td>11.166167</td>\n",
       "      <td>0.374500</td>\n",
       "      <td>3.470270</td>\n",
       "    </tr>\n",
       "    <tr>\n",
       "      <th>2019-12-01 05:00:00</th>\n",
       "      <td>10.791667</td>\n",
       "      <td>11.166167</td>\n",
       "      <td>0.374500</td>\n",
       "      <td>3.470270</td>\n",
       "    </tr>\n",
       "    <tr>\n",
       "      <th>...</th>\n",
       "      <td>...</td>\n",
       "      <td>...</td>\n",
       "      <td>...</td>\n",
       "      <td>...</td>\n",
       "    </tr>\n",
       "    <tr>\n",
       "      <th>2020-12-31 19:00:00</th>\n",
       "      <td>36.850000</td>\n",
       "      <td>10.807333</td>\n",
       "      <td>26.042667</td>\n",
       "      <td>70.672094</td>\n",
       "    </tr>\n",
       "    <tr>\n",
       "      <th>2020-12-31 20:00:00</th>\n",
       "      <td>19.690000</td>\n",
       "      <td>10.807333</td>\n",
       "      <td>8.882667</td>\n",
       "      <td>45.112578</td>\n",
       "    </tr>\n",
       "    <tr>\n",
       "      <th>2020-12-31 21:00:00</th>\n",
       "      <td>20.780000</td>\n",
       "      <td>11.166167</td>\n",
       "      <td>9.613833</td>\n",
       "      <td>46.264838</td>\n",
       "    </tr>\n",
       "    <tr>\n",
       "      <th>2020-12-31 22:00:00</th>\n",
       "      <td>27.850000</td>\n",
       "      <td>11.166167</td>\n",
       "      <td>16.683833</td>\n",
       "      <td>59.906044</td>\n",
       "    </tr>\n",
       "    <tr>\n",
       "      <th>2020-12-31 23:00:00</th>\n",
       "      <td>19.680000</td>\n",
       "      <td>11.166167</td>\n",
       "      <td>8.513833</td>\n",
       "      <td>43.261348</td>\n",
       "    </tr>\n",
       "  </tbody>\n",
       "</table>\n",
       "<p>9288 rows × 4 columns</p>\n",
       "</div>"
      ],
      "text/plain": [
       "                         ¢/kWh  predictions  difference    % error\n",
       "Date                                                              \n",
       "2019-12-01 01:00:00  10.791667    11.166167    0.374500   3.470270\n",
       "2019-12-01 02:00:00  10.791667    11.166167    0.374500   3.470270\n",
       "2019-12-01 03:00:00  10.791667    11.166167    0.374500   3.470270\n",
       "2019-12-01 04:00:00  10.791667    11.166167    0.374500   3.470270\n",
       "2019-12-01 05:00:00  10.791667    11.166167    0.374500   3.470270\n",
       "...                        ...          ...         ...        ...\n",
       "2020-12-31 19:00:00  36.850000    10.807333   26.042667  70.672094\n",
       "2020-12-31 20:00:00  19.690000    10.807333    8.882667  45.112578\n",
       "2020-12-31 21:00:00  20.780000    11.166167    9.613833  46.264838\n",
       "2020-12-31 22:00:00  27.850000    11.166167   16.683833  59.906044\n",
       "2020-12-31 23:00:00  19.680000    11.166167    8.513833  43.261348\n",
       "\n",
       "[9288 rows x 4 columns]"
      ]
     },
     "execution_count": 1025,
     "metadata": {},
     "output_type": "execute_result"
    }
   ],
   "source": [
    "y_test"
   ]
  },
  {
   "cell_type": "code",
   "execution_count": 1026,
   "id": "6dd8d655",
   "metadata": {},
   "outputs": [
    {
     "data": {
      "text/html": [
       "<div>\n",
       "<style scoped>\n",
       "    .dataframe tbody tr th:only-of-type {\n",
       "        vertical-align: middle;\n",
       "    }\n",
       "\n",
       "    .dataframe tbody tr th {\n",
       "        vertical-align: top;\n",
       "    }\n",
       "\n",
       "    .dataframe thead th {\n",
       "        text-align: right;\n",
       "    }\n",
       "</style>\n",
       "<table border=\"1\" class=\"dataframe\">\n",
       "  <thead>\n",
       "    <tr style=\"text-align: right;\">\n",
       "      <th></th>\n",
       "      <th>prediction</th>\n",
       "      <th>actual</th>\n",
       "    </tr>\n",
       "  </thead>\n",
       "  <tbody>\n",
       "    <tr>\n",
       "      <th>0</th>\n",
       "      <td>13.481883</td>\n",
       "      <td>10.791667</td>\n",
       "    </tr>\n",
       "    <tr>\n",
       "      <th>1</th>\n",
       "      <td>14.246533</td>\n",
       "      <td>10.791667</td>\n",
       "    </tr>\n",
       "    <tr>\n",
       "      <th>2</th>\n",
       "      <td>13.794408</td>\n",
       "      <td>10.791667</td>\n",
       "    </tr>\n",
       "    <tr>\n",
       "      <th>3</th>\n",
       "      <td>13.644700</td>\n",
       "      <td>10.791667</td>\n",
       "    </tr>\n",
       "    <tr>\n",
       "      <th>4</th>\n",
       "      <td>13.209292</td>\n",
       "      <td>10.791667</td>\n",
       "    </tr>\n",
       "    <tr>\n",
       "      <th>5</th>\n",
       "      <td>13.428717</td>\n",
       "      <td>10.791667</td>\n",
       "    </tr>\n",
       "    <tr>\n",
       "      <th>6</th>\n",
       "      <td>13.580417</td>\n",
       "      <td>10.791667</td>\n",
       "    </tr>\n",
       "    <tr>\n",
       "      <th>7</th>\n",
       "      <td>14.144533</td>\n",
       "      <td>8.570000</td>\n",
       "    </tr>\n",
       "    <tr>\n",
       "      <th>8</th>\n",
       "      <td>13.896350</td>\n",
       "      <td>36.030000</td>\n",
       "    </tr>\n",
       "    <tr>\n",
       "      <th>9</th>\n",
       "      <td>13.738167</td>\n",
       "      <td>26.110000</td>\n",
       "    </tr>\n",
       "    <tr>\n",
       "      <th>10</th>\n",
       "      <td>13.977333</td>\n",
       "      <td>24.890000</td>\n",
       "    </tr>\n",
       "    <tr>\n",
       "      <th>11</th>\n",
       "      <td>14.330517</td>\n",
       "      <td>25.440000</td>\n",
       "    </tr>\n",
       "    <tr>\n",
       "      <th>12</th>\n",
       "      <td>13.845567</td>\n",
       "      <td>27.210000</td>\n",
       "    </tr>\n",
       "    <tr>\n",
       "      <th>13</th>\n",
       "      <td>13.845117</td>\n",
       "      <td>28.340000</td>\n",
       "    </tr>\n",
       "    <tr>\n",
       "      <th>14</th>\n",
       "      <td>14.285950</td>\n",
       "      <td>26.830000</td>\n",
       "    </tr>\n",
       "    <tr>\n",
       "      <th>15</th>\n",
       "      <td>13.881067</td>\n",
       "      <td>26.840000</td>\n",
       "    </tr>\n",
       "    <tr>\n",
       "      <th>16</th>\n",
       "      <td>14.587700</td>\n",
       "      <td>26.190000</td>\n",
       "    </tr>\n",
       "    <tr>\n",
       "      <th>17</th>\n",
       "      <td>13.743092</td>\n",
       "      <td>24.080000</td>\n",
       "    </tr>\n",
       "    <tr>\n",
       "      <th>18</th>\n",
       "      <td>13.857167</td>\n",
       "      <td>5.780000</td>\n",
       "    </tr>\n",
       "    <tr>\n",
       "      <th>19</th>\n",
       "      <td>13.845208</td>\n",
       "      <td>25.790000</td>\n",
       "    </tr>\n",
       "  </tbody>\n",
       "</table>\n",
       "</div>"
      ],
      "text/plain": [
       "    prediction     actual\n",
       "0    13.481883  10.791667\n",
       "1    14.246533  10.791667\n",
       "2    13.794408  10.791667\n",
       "3    13.644700  10.791667\n",
       "4    13.209292  10.791667\n",
       "5    13.428717  10.791667\n",
       "6    13.580417  10.791667\n",
       "7    14.144533   8.570000\n",
       "8    13.896350  36.030000\n",
       "9    13.738167  26.110000\n",
       "10   13.977333  24.890000\n",
       "11   14.330517  25.440000\n",
       "12   13.845567  27.210000\n",
       "13   13.845117  28.340000\n",
       "14   14.285950  26.830000\n",
       "15   13.881067  26.840000\n",
       "16   14.587700  26.190000\n",
       "17   13.743092  24.080000\n",
       "18   13.857167   5.780000\n",
       "19   13.845208  25.790000"
      ]
     },
     "execution_count": 1026,
     "metadata": {},
     "output_type": "execute_result"
    }
   ],
   "source": [
    "prediction['actual']=y_test['¢/kWh'].values\n",
    "prediction.head(20)"
   ]
  },
  {
   "cell_type": "code",
   "execution_count": 1027,
   "id": "afc576d2",
   "metadata": {},
   "outputs": [],
   "source": [
    "prediction['difference'] = np.abs(prediction['actual'] - prediction['prediction'])\n",
    "prediction['% error'] = ((prediction['difference'] + 0.5) /(prediction['actual'] + 0.5))*100"
   ]
  },
  {
   "cell_type": "code",
   "execution_count": 1028,
   "id": "f9ef1ad6",
   "metadata": {},
   "outputs": [
    {
     "data": {
      "text/plain": [
       "61.06766261180231"
      ]
     },
     "execution_count": 1028,
     "metadata": {},
     "output_type": "execute_result"
    }
   ],
   "source": [
    "prediction['% error'].mean()"
   ]
  },
  {
   "cell_type": "code",
   "execution_count": 1029,
   "id": "dc9ed972",
   "metadata": {},
   "outputs": [
    {
     "data": {
      "text/plain": [
       "64.3160086113409"
      ]
     },
     "execution_count": 1029,
     "metadata": {},
     "output_type": "execute_result"
    }
   ],
   "source": [
    "mape = 100 * (prediction['difference'] / prediction['actual'])\n",
    "accuracy = 100 - np.mean(mape[np.isfinite(mape)])\n",
    "100 - accuracy"
   ]
  },
  {
   "cell_type": "code",
   "execution_count": 1030,
   "id": "c60565b1",
   "metadata": {},
   "outputs": [
    {
     "data": {
      "text/plain": [
       "<matplotlib.legend.Legend at 0x7fe323503490>"
      ]
     },
     "execution_count": 1030,
     "metadata": {},
     "output_type": "execute_result"
    },
    {
     "data": {
      "image/png": "[encoded data removed]",
      "text/plain": [
       "<Figure size 2016x648 with 1 Axes>"
      ]
     },
     "metadata": {
      "needs_background": "light"
     },
     "output_type": "display_data"
    }
   ],
   "source": [
    "fig, ax2 = plt.subplots(figsize = (28,9))\n",
    "\n",
    "ax2.set_xlabel('Date', fontsize=20)\n",
    "ax2.set_ylabel('¢/kWh', fontsize=20)\n",
    "plt.rcParams['axes.facecolor'] = 'black'\n",
    "ax2.plot(prediction['actual'], label = 'actual', color = 'w', linewidth=2)\n",
    "ax2.plot(prediction['prediction'], label = 'prediction', color = 'y', linestyle='--', linewidth=2)\n",
    "ax2.tick_params(axis='y', labelsize = 20)\n",
    "\n",
    "ax2.legend(prop={'size': 20},labelcolor='white')"
   ]
  }
 ],
 "metadata": {
  "kernelspec": {
   "display_name": "Python 3",
   "language": "python",
   "name": "python3"
  },
  "language_info": {
   "codemirror_mode": {
    "name": "ipython",
    "version": 3
   },
   "file_extension": ".py",
   "mimetype": "text/x-python",
   "name": "python",
   "nbconvert_exporter": "python",
   "pygments_lexer": "ipython3",
   "version": "3.8.8"
  }
 },
 "nbformat": 4,
 "nbformat_minor": 5
}
